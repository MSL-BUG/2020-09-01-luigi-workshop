{
 "cells": [
  {
   "cell_type": "code",
   "execution_count": null,
   "metadata": {},
   "outputs": [],
   "source": [
    "import luigi"
   ]
  },
  {
   "cell_type": "markdown",
   "metadata": {},
   "source": [
    "# Introduction to Luigi"
   ]
  },
  {
   "cell_type": "code",
   "execution_count": null,
   "metadata": {},
   "outputs": [],
   "source": [
    "class HelloWorld(luigi.Task):\n",
    "    def requires(self):\n",
    "        # depends on other stuff\n",
    "        return []\n",
    "    \n",
    "    def run(self):\n",
    "        # does something\n",
    "        print('Hello world!')\n",
    "        self._has_run = True\n",
    "        \n",
    "    def complete(self):\n",
    "        # let know other if it's done\n",
    "        return hasattr(self, '_has_run') and self._has_run"
   ]
  },
  {
   "cell_type": "code",
   "execution_count": null,
   "metadata": {},
   "outputs": [],
   "source": [
    "assert luigi.build([HelloWorld()], local_scheduler=True)"
   ]
  },
  {
   "cell_type": "markdown",
   "metadata": {},
   "source": [
    "## Task dependencies"
   ]
  },
  {
   "cell_type": "code",
   "execution_count": null,
   "metadata": {},
   "outputs": [],
   "source": [
    "class HelloWorld2(luigi.Task):\n",
    "    def requires(self):\n",
    "        return HelloWorld()\n",
    "    \n",
    "    def run(self):\n",
    "        # does something\n",
    "        print('Hello world2!')\n",
    "        \n",
    "    def complete(self):\n",
    "        return False"
   ]
  },
  {
   "cell_type": "code",
   "execution_count": null,
   "metadata": {},
   "outputs": [],
   "source": [
    "assert HelloWorld().complete()"
   ]
  },
  {
   "cell_type": "code",
   "execution_count": null,
   "metadata": {},
   "outputs": [],
   "source": [
    "assert luigi.build([HelloWorld2()], local_scheduler=True)"
   ]
  },
  {
   "cell_type": "code",
   "execution_count": null,
   "metadata": {},
   "outputs": [],
   "source": [
    "from luigi.util import requires"
   ]
  },
  {
   "cell_type": "code",
   "execution_count": null,
   "metadata": {},
   "outputs": [],
   "source": [
    "@requires(HelloWorld)\n",
    "class HelloWorld2(luigi.Task):\n",
    "    \n",
    "    def run(self):\n",
    "        # does something\n",
    "        print('Hello world2!')\n",
    "        \n",
    "    def complete(self):\n",
    "        return False"
   ]
  },
  {
   "cell_type": "code",
   "execution_count": null,
   "metadata": {},
   "outputs": [],
   "source": [
    "assert luigi.build([HelloWorld2()], local_scheduler=True)"
   ]
  },
  {
   "cell_type": "code",
   "execution_count": null,
   "metadata": {},
   "outputs": [],
   "source": [
    "class GenerateRecords(luigi.Task):\n",
    "    def run(self):\n",
    "        with self.output().open('w') as f:\n",
    "            for i in range(10):\n",
    "                f.write(f'{i}\\n')\n",
    "    def output(self):\n",
    "        return luigi.LocalTarget('generated-records')"
   ]
  },
  {
   "cell_type": "code",
   "execution_count": null,
   "metadata": {},
   "outputs": [],
   "source": [
    "assert luigi.build([GenerateRecords()], local_scheduler=True)"
   ]
  },
  {
   "cell_type": "code",
   "execution_count": null,
   "metadata": {},
   "outputs": [],
   "source": [
    "class ProcessRecords(luigi.Task):\n",
    "    def requires(self):\n",
    "        return GenerateRecords()\n",
    "    \n",
    "    def run(self):\n",
    "        with self.input().open() as f, self.output().open('w') as fout:\n",
    "            for line in f:\n",
    "                fout.write(line)\n",
    "    \n",
    "    def output(self):\n",
    "        return luigi.LocalTarget('processed-records')"
   ]
  },
  {
   "cell_type": "code",
   "execution_count": null,
   "metadata": {},
   "outputs": [],
   "source": [
    "assert luigi.build([ProcessRecords()], local_scheduler=True)"
   ]
  },
  {
   "cell_type": "code",
   "execution_count": null,
   "metadata": {},
   "outputs": [],
   "source": [
    "class DownstreamAnalysis(luigi.Task):\n",
    "    suffix = luigi.Parameter()\n",
    "    \n",
    "    def requires(self):\n",
    "        return ProcessRecords()\n",
    "    \n",
    "    def run(self):\n",
    "        with self.input().open() as f, self.output().open('w') as fout:\n",
    "            for line in f:\n",
    "                fout.write(line.strip() + self.suffix + '\\n')\n",
    "    \n",
    "    def output(self):\n",
    "        return luigi.LocalTarget(f'processed-records-with-{self.suffix}')"
   ]
  },
  {
   "cell_type": "code",
   "execution_count": null,
   "metadata": {},
   "outputs": [],
   "source": [
    "assert luigi.build([DownstreamAnalysis(suffix='Z')], local_scheduler=True, workers=4)"
   ]
  },
  {
   "cell_type": "code",
   "execution_count": null,
   "metadata": {},
   "outputs": [],
   "source": [
    "assert luigi.build([DownstreamAnalysis(suffix='K')], local_scheduler=True)"
   ]
  },
  {
   "cell_type": "code",
   "execution_count": null,
   "metadata": {},
   "outputs": [],
   "source": [
    "class CombinedAnalysis(luigi.Task):\n",
    "    def requires(self):\n",
    "        return [DownstreamAnalysis(suffix=s) for s in 'ABCDEF']\n",
    "    \n",
    "    def run(self):\n",
    "        with self.output().open('w') as fout:\n",
    "            for lines in zip(*(req_input.open('r') for req_input in self.input())):\n",
    "                fout.write('\\t'.join([line.strip() for line in lines]) + '\\n')\n",
    "    \n",
    "    def output(self):\n",
    "        return luigi.LocalTarget('combined-analysis')"
   ]
  },
  {
   "cell_type": "code",
   "execution_count": null,
   "metadata": {},
   "outputs": [],
   "source": [
    "assert luigi.build([CombinedAnalysis()], local_scheduler=True)"
   ]
  },
  {
   "cell_type": "markdown",
   "metadata": {},
   "source": [
    "# Scaling things up with Bioluigi"
   ]
  },
  {
   "cell_type": "code",
   "execution_count": null,
   "metadata": {},
   "outputs": [],
   "source": [
    "from bioluigi.scheduled_external_program import ScheduledExternalProgramTask"
   ]
  },
  {
   "cell_type": "code",
   "execution_count": null,
   "metadata": {},
   "outputs": [],
   "source": [
    "class Ls(ScheduledExternalProgramTask):\n",
    "    scheduler = 'slurm'\n",
    "    \n",
    "    number_of_tasks = luigi.Parameter()\n",
    "    \n",
    "    @property\n",
    "    def cpus(self):\n",
    "        return self.number_of_tasks\n",
    "    \n",
    "    def program_args(self):\n",
    "        return ['ls']\n",
    "    \n",
    "    def complete(self):\n",
    "        return False"
   ]
  },
  {
   "cell_type": "code",
   "execution_count": null,
   "metadata": {},
   "outputs": [],
   "source": [
    "assert luigi.build([Ls(2)], local_scheduler=True)"
   ]
  },
  {
   "cell_type": "markdown",
   "metadata": {
    "jupyter": {
     "outputs_hidden": true
    }
   },
   "source": [
    "# Let's do some serious work now!"
   ]
  },
  {
   "cell_type": "code",
   "execution_count": null,
   "metadata": {},
   "outputs": [],
   "source": [
    "import luigi\n",
    "from bioluigi.tasks import sratoolkit, rsem"
   ]
  },
  {
   "cell_type": "code",
   "execution_count": null,
   "metadata": {},
   "outputs": [],
   "source": [
    "!wget ftp://ftp.ensembl.org/pub/release-101/fasta/caenorhabditis_elegans/dna/Caenorhabditis_elegans.WBcel235.dna.toplevel.fa.gz\n",
    "!wget ftp://ftp.ensembl.org/pub/release-101/gtf/caenorhabditis_elegans/Caenorhabditis_elegans.WBcel235.101.gtf.gz"
   ]
  },
  {
   "cell_type": "code",
   "execution_count": null,
   "metadata": {},
   "outputs": [],
   "source": [
    "!gunzip Caenorhabditis_elegans.WBcel235.dna.toplevel.fa.gz\n",
    "!gunzip Caenorhabditis_elegans.WBcel235.101.gtf.gz"
   ]
  },
  {
   "cell_type": "code",
   "execution_count": null,
   "metadata": {},
   "outputs": [],
   "source": [
    "%%time\n",
    "prepare_reference = rsem.PrepareReference(annotation_file='Caenorhabditis_elegans.WBcel235.101.gtf',\n",
    "                                          reference_fasta_files=['Caenorhabditis_elegans.WBcel235.dna.toplevel.fa'],\n",
    "                                          reference_name='worm_0',\n",
    "                                          aligner='star',\n",
    "                                          cpus=16)\n",
    "assert luigi.build([prepare_reference], local_scheduler=True)"
   ]
  },
  {
   "cell_type": "code",
   "execution_count": null,
   "metadata": {},
   "outputs": [],
   "source": [
    "%%time\n",
    "download_sample = sratoolkit.FastqDump('SRR12478578', output_dir='.', scheduler='slurm')\n",
    "assert luigi.build([download_sample], local_scheduler=True)"
   ]
  },
  {
   "cell_type": "code",
   "execution_count": null,
   "metadata": {},
   "outputs": [],
   "source": [
    "%%time\n",
    "calculate_expression = rsem.CalculateExpression(annotation_file='Caenorhabditis_elegans.WBcel235.101.gtf',\n",
    "                                                reference_fasta_files=['Caenorhabditis_elegans.WBcel235.dna.toplevel.fa'],\n",
    "                                                reference_name='worm_0',\n",
    "                                                aligner='star',\n",
    "                                                upstream_read_files=['SRR12478578.fastq.gz'],\n",
    "                                                sample_name='SRR12478578',\n",
    "                                                cpus=16)\n",
    "assert luigi.build([calculate_expression], local_scheduler=True)"
   ]
  },
  {
   "cell_type": "markdown",
   "metadata": {},
   "source": [
    "## Let's assemble all this!"
   ]
  },
  {
   "cell_type": "code",
   "execution_count": null,
   "metadata": {},
   "outputs": [],
   "source": [
    "class RnaSeqPipeline(luigi.Task):\n",
    "    srr_accession = luigi.Parameter()\n",
    "    def run(self):\n",
    "        fastqs = yield sratoolkit.FastqDump(self.srr_accession, \n",
    "                                            output_dir='.')\n",
    "        fastqs = [f.path for f in fastqs]\n",
    "        quantifications = yield rsem.CalculateExpression(annotation_file='Caenorhabditis_elegans.WBcel235.101.gtf',\n",
    "                                                reference_fasta_files=['Caenorhabditis_elegans.WBcel235.dna.toplevel.fa'],\n",
    "                                                reference_name='worm_0',\n",
    "                                                aligner='star',\n",
    "                                                upstream_read_files=fastqs[:1],\n",
    "                                                sample_name='SRR12478578',\n",
    "                                                cpus=16)\n",
    "    def output(self):\n",
    "        return luigi.LocalTarget(f'{self.srr_accession}.isoforms.results')"
   ]
  },
  {
   "cell_type": "code",
   "execution_count": null,
   "metadata": {},
   "outputs": [],
   "source": [
    "assert luigi.build([RnaSeqPipeline('SRR12478578')], local_scheduler=True)"
   ]
  },
  {
   "cell_type": "code",
   "execution_count": null,
   "metadata": {},
   "outputs": [],
   "source": [
    "assert luigi.build([RnaSeqPipeline(srr_accession) for srr_accession in ['SRR12478578']], \n",
    "                   local_scheduler=True,\n",
    "                   workers=32)"
   ]
  },
  {
   "cell_type": "code",
   "execution_count": null,
   "metadata": {},
   "outputs": [],
   "source": []
  }
 ],
 "metadata": {
  "kernelspec": {
   "display_name": "Python 3",
   "language": "python",
   "name": "python3"
  },
  "language_info": {
   "codemirror_mode": {
    "name": "ipython",
    "version": 3
   },
   "file_extension": ".py",
   "mimetype": "text/x-python",
   "name": "python",
   "nbconvert_exporter": "python",
   "pygments_lexer": "ipython3",
   "version": "3.8.5"
  }
 },
 "nbformat": 4,
 "nbformat_minor": 4
}
